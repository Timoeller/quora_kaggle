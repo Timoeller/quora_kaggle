{
 "cells": [
  {
   "cell_type": "code",
   "execution_count": 1,
   "metadata": {
    "collapsed": false
   },
   "outputs": [
    {
     "name": "stderr",
     "output_type": "stream",
     "text": [
      "/home/timomoeller/.virtualenvs/keras/lib/python3.5/site-packages/IPython/html.py:14: ShimWarning: The `IPython.html` package has been deprecated. You should import from `notebook` instead. `IPython.html.widgets` has moved to `ipywidgets`.\n",
      "  \"`IPython.html.widgets` has moved to `ipywidgets`.\", ShimWarning)\n",
      "Using TensorFlow backend.\n"
     ]
    },
    {
     "name": "stdout",
     "output_type": "stream",
     "text": [
      "(404290, 6)\n",
      "[nltk_data] Downloading package stopwords to\n",
      "[nltk_data]     /home/timomoeller/nltk_data...\n",
      "[nltk_data]   Package stopwords is already up-to-date!\n"
     ]
    },
    {
     "name": "stderr",
     "output_type": "stream",
     "text": [
      "/home/timomoeller/.virtualenvs/keras/lib/python3.5/site-packages/sklearn/cross_validation.py:44: DeprecationWarning: This module was deprecated in version 0.18 in favor of the model_selection module into which all the refactored classes and functions are moved. Also note that the interface of the new CV iterators are different from that of this module. This module will be removed in 0.20.\n",
      "  \"This module will be removed in 0.20.\", DeprecationWarning)\n"
     ]
    },
    {
     "data": {
      "text/html": [
       "<div>\n",
       "<table border=\"1\" class=\"dataframe\">\n",
       "  <thead>\n",
       "    <tr style=\"text-align: right;\">\n",
       "      <th></th>\n",
       "      <th>id</th>\n",
       "      <th>qid1</th>\n",
       "      <th>qid2</th>\n",
       "      <th>question1</th>\n",
       "      <th>question2</th>\n",
       "      <th>is_duplicate</th>\n",
       "    </tr>\n",
       "  </thead>\n",
       "  <tbody>\n",
       "    <tr>\n",
       "      <th>0</th>\n",
       "      <td>0</td>\n",
       "      <td>1</td>\n",
       "      <td>2</td>\n",
       "      <td>What is the step by step guide to invest in sh...</td>\n",
       "      <td>What is the step by step guide to invest in sh...</td>\n",
       "      <td>0</td>\n",
       "    </tr>\n",
       "    <tr>\n",
       "      <th>1</th>\n",
       "      <td>1</td>\n",
       "      <td>3</td>\n",
       "      <td>4</td>\n",
       "      <td>What is the story of Kohinoor (Koh-i-Noor) Dia...</td>\n",
       "      <td>What would happen if the Indian government sto...</td>\n",
       "      <td>0</td>\n",
       "    </tr>\n",
       "  </tbody>\n",
       "</table>\n",
       "</div>"
      ],
      "text/plain": [
       "   id  qid1  qid2                                          question1  \\\n",
       "0   0     1     2  What is the step by step guide to invest in sh...   \n",
       "1   1     3     4  What is the story of Kohinoor (Koh-i-Noor) Dia...   \n",
       "\n",
       "                                           question2  is_duplicate  \n",
       "0  What is the step by step guide to invest in sh...             0  \n",
       "1  What would happen if the Indian government sto...             0  "
      ]
     },
     "execution_count": 1,
     "metadata": {},
     "output_type": "execute_result"
    }
   ],
   "source": [
    "import numpy as np\n",
    "import pandas as pd\n",
    "import scipy as sp\n",
    "import matplotlib.pyplot as plt\n",
    "import seaborn as sns\n",
    "from joblib import Parallel, delayed\n",
    "import pickle\n",
    "import difflib\n",
    "from collections import Counter\n",
    "\n",
    "%matplotlib inline\n",
    "from keras.utils import np_utils\n",
    "\n",
    "train = pd.read_csv('../train.csv', sep=',', header=0)\n",
    "test = pd.read_csv('../test.csv', sep=',', header=0)\n",
    "\n",
    "train = train.fillna(\" \")\n",
    "test = test.fillna(\" \")\n",
    "print(train.shape)\n",
    "\n",
    "import nltk\n",
    "nltk.download('stopwords')\n",
    "nltk.download('averaged_perceptron_tagger')\n",
    "from nltk import RegexpTokenizer\n",
    "from nltk.corpus import stopwords\n",
    "from nltk.stem import SnowballStemmer \n",
    "from nltk.tokenize import RegexpTokenizer\n",
    "\n",
    "from sklearn.feature_extraction.text import CountVectorizer, TfidfVectorizer\n",
    "from sklearn.model_selection import train_test_split\n",
    "import xgboost as xgb\n",
    "from sklearn.metrics import log_loss\n",
    "\n",
    "\n",
    "\n",
    "train.head(2)"
   ]
  },
  {
   "cell_type": "code",
   "execution_count": 2,
   "metadata": {
    "collapsed": false
   },
   "outputs": [
    {
     "name": "stdout",
     "output_type": "stream",
     "text": [
      "[nltk_data] Downloading package averaged_perceptron_tagger to\n",
      "[nltk_data]     /home/timomoeller/nltk_data...\n",
      "[nltk_data]   Package averaged_perceptron_tagger is already up-to-\n",
      "[nltk_data]       date!\n"
     ]
    }
   ],
   "source": [
    "stop_words = set(stopwords.words('english'))\n",
    "\n",
    "tfidf = TfidfVectorizer(stop_words='english', ngram_range=(1, 1),min_df=4)\n",
    "tfidf.fit(np.concatenate([train[\"question1\"].values,train[\"question2\"].values]))\n",
    "\n",
    "def sequence_match(st1, st2):\n",
    "    seq = difflib.SequenceMatcher()\n",
    "    seq.set_seqs(str(st1).lower(), str(st2).lower())\n",
    "    return seq.ratio()\n",
    "\n",
    "#gets a pandas row with specific column names!\n",
    "def noun_match_ratio(row):\n",
    "    if(row.z_noun_match == 0): \n",
    "        return 0\n",
    "    else:\n",
    "        return row.z_noun_match / ((len(row.question1_nouns)+len(row.question2_nouns))/2)\n",
    "\n",
    "def noun_extracter(sentence):\n",
    "    tokens = nltk.word_tokenize(sentence.lower())\n",
    "    return np.array([w for w, t in nltk.pos_tag(tokens) if t[:1] in ['N']])\n",
    "    \n",
    "def word_match(q1,q2):\n",
    "    q1 = q1.split()\n",
    "    q2 = q2.split()\n",
    "    if(len(q1) == 0 or len(q2) == 0):\n",
    "        return 0\n",
    "    else:\n",
    "        both = set(q1).intersection(set(q2))\n",
    "        return len(both) * 2 / (len(q1) + len(q2))\n",
    "    \n",
    "def removePunktAndStopwords(phrases):\n",
    "    toInclude = set(['above','below','between','but','couldn','didn','doesn','down',\n",
    "                     'few','hadn','haven','isn','just','mightn','mustn','needn','nor',\n",
    "                     'not','off','once','only','out','over','should','shouldn','some',\n",
    "                     'very','wasn','weren','won','wouldn','again','against','all',\n",
    "                     'any','aren'])\n",
    "    stop_wordsLarge = set(stopwords.words('english'))\n",
    "    stop_words = set(stopwords.words('english'))#set([w for w in stop_wordsLarge if w not in toInclude])\n",
    "    tokenizer = RegexpTokenizer('[a-z]\\w+')\n",
    "    docs_toke = [tokenizer.tokenize(doc.lower()) for doc in phrases]\n",
    "    stopwordsremoved = [[t for t in temp if t not in stop_words] for temp in docs_toke]\n",
    "    return np.asarray([\" \".join(w) for w in stopwordsremoved])\n",
    "\n",
    "def stopWordsRemover(phrase):\n",
    "    bla = [w for w in str(phrase).lower().split() if w not in stop_words]\n",
    "    return \" \".join(bla)\n",
    "\n",
    "class LemmaTokenizer(object):\n",
    "    def __init__(self):\n",
    "        self.snbstem = SnowballStemmer('english')\n",
    "    def lmtokenize(self,doc):\n",
    "        temp = [self.snbstem.stem(t) for t in doc.lower().split()]\n",
    "        return \" \".join(temp)\n",
    "    \n",
    "\n",
    "def word_match_share(row):\n",
    "    q1words = {}\n",
    "    q2words = {}\n",
    "    for word in str(row['question1']).lower().split():\n",
    "        if word not in stop_words:\n",
    "            q1words[word] = 1\n",
    "    for word in str(row['question2']).lower().split():\n",
    "        if word not in stop_words:\n",
    "            q2words[word] = 1\n",
    "    if len(q1words) == 0 or len(q2words) == 0:\n",
    "        return 0\n",
    "    shared_words_in_q1 = [w for w in q1words.keys() if w in q2words]\n",
    "    shared_words_in_q2 = [w for w in q2words.keys() if w in q1words]\n",
    "    R = (len(shared_words_in_q1) + len(shared_words_in_q2))/(len(q1words) + len(q2words))\n",
    "    return R\n"
   ]
  },
  {
   "cell_type": "code",
   "execution_count": 3,
   "metadata": {
    "collapsed": false
   },
   "outputs": [
    {
     "name": "stderr",
     "output_type": "stream",
     "text": [
      "/home/timomoeller/.virtualenvs/keras/lib/python3.5/site-packages/ipykernel/__main__.py:12: FutureWarning: elementwise comparison failed; returning scalar instead, but in the future will perform elementwise comparison\n"
     ]
    }
   ],
   "source": [
    "def getFeatures(df):\n",
    "    questions1 = df[\"question1\"].values\n",
    "    questions2 = df[\"question2\"].values\n",
    "    df.loc[:,\"q1sW\"] = df.apply(lambda x: stopWordsRemover(x.question1),axis=1)\n",
    "    df.loc[:,\"q2sW\"] = df.apply(lambda x: stopWordsRemover(x.question2),axis=1)\n",
    "    df = df.assign(question1_nouns=pd.Series(Parallel(n_jobs=5)(delayed(noun_extracter)(x) for x in questions1)))\n",
    "    df = df.assign(question2_nouns=pd.Series(Parallel(n_jobs=5)(delayed(noun_extracter)(x) for x in questions2)))\n",
    "    df.loc[:,'z_len1'] = df.question1.map(lambda x: len(str(x)))\n",
    "    df.loc[:,'z_len2'] = df.question2.map(lambda x: len(str(x)))\n",
    "    df.loc[:,'z_word_len1'] = df.question1.map(lambda x: len(str(x).split()))\n",
    "    df.loc[:,'z_word_len2'] = df.question2.map(lambda x: len(str(x).split()))\n",
    "    df.loc[:,'z_noun_match'] = df.apply(lambda r: sum([1 for w in r[\"question1_nouns\"] if w in r[\"question2_nouns\"]]), axis=1) \n",
    "    df.loc[:,'z_noun_match_ratio'] = df.apply(lambda r: noun_match_ratio(r), axis=1)\n",
    "    df = df.assign(z_sequence_match=pd.Series(Parallel(n_jobs=5)\n",
    "                                       (delayed(sequence_match)(x,y) for x,y in zip(df[\"q1sW\"].values,df[\"q2sW\"].values))))\n",
    "    df = df.assign(z_word_match=pd.Series(Parallel(n_jobs=5)\n",
    "                                      (delayed(word_match)(x,y) for x,y in zip(df[\"q1sW\"].values,df[\"q2sW\"].values))))\n",
    "    \n",
    "    preprocessor = LemmaTokenizer()\n",
    "    df = df.assign(q1_stemmed=pd.Series(Parallel(n_jobs=5)(delayed(\n",
    "                    preprocessor.lmtokenize)(sentence) for sentence in df[\"q1sW\"].values)))\n",
    "    df = df.assign(q2_stemmed=pd.Series(Parallel(n_jobs=5)(delayed(\n",
    "                preprocessor.lmtokenize)(sentence) for sentence in df[\"q2sW\"].values)))\n",
    "    \n",
    "    tfidfQ1 = tfidf.transform(df[\"question1\"])\n",
    "    tfidfQ2 = tfidf.transform(df[\"question2\"])\n",
    "    df.loc[:,'z_tfidf_sum1'] = pd.Series(np.squeeze(np.asarray(tfidfQ1.sum(axis=1))))\n",
    "    df.loc[:,'z_tfidf_sum2'] = pd.Series(np.squeeze(np.asarray(tfidfQ2.sum(axis=1))))\n",
    "    df.loc[:,'z_tfidf_mean1'] = pd.Series(np.squeeze(np.asarray(tfidfQ1.mean(axis=1))))\n",
    "    df.loc[:,'z_tfidf_mean2'] = pd.Series(np.squeeze(np.asarray(tfidfQ2.mean(axis=1))))\n",
    "    \n",
    "    return df\n",
    "    \n",
    "\n",
    "test = getFeatures(test)\n",
    "\n",
    "#pickle.dump(test,open(\"dumps/tasdfasdfafFeatures04-11.p\", \"wb\" ))\n",
    "col = [c for c in test.columns if c[:1]=='z']"
   ]
  },
  {
   "cell_type": "code",
   "execution_count": 5,
   "metadata": {
    "collapsed": false
   },
   "outputs": [],
   "source": [
    "import pickle\n",
    "train = pickle.load(open(\"dumps/trainFeatures04-10.p\", \"rb\" ))\n",
    "test = pickle.load(open(\"dumps/testFeatures04-10.p\", \"rb\" ))\n",
    "col = [c for c in train.columns if c[:1]=='z']\n",
    "\n",
    "def addfeature(df):\n",
    "    print(\"muhmaeh\")\n",
    "    return df\n",
    "    \n",
    "#train = addfeature(train)"
   ]
  },
  {
   "cell_type": "code",
   "execution_count": 7,
   "metadata": {
    "collapsed": false
   },
   "outputs": [],
   "source": [
    "def upsampleNegatives(X,y):\n",
    "    negs = np.sum(y == 0)\n",
    "    pos = np.sum(y == 1)\n",
    "    negIncrease = int(pos / 0.165) - negs\n",
    "    negidx= np.nonzero(y == 0)[0]\n",
    "    idx = np.random.randint(low=0,high=negidx.shape[0],size=negIncrease)\n",
    "    Xnew = np.concatenate([X,X[negidx[idx]]])\n",
    "    ynew = np.concatenate([y,y[negidx[idx]]])\n",
    "    return Xnew, ynew\n",
    "\n",
    "def upsampleNegativesCreative(X,y):\n",
    "    #sample better here\n",
    "    return X,y\n",
    "    \n",
    "    \n",
    "\n",
    "\n",
    "X_train, X_test, y_train, y_test = train_test_split(train[col].values, train[\"is_duplicate\"].values, test_size=0.2)\n",
    "X2,y2 = upsampleNegatives(X_test,y_test)\n",
    "X1,y1 = upsampleNegatives(X_train,y_train)"
   ]
  },
  {
   "cell_type": "code",
   "execution_count": 20,
   "metadata": {
    "collapsed": false
   },
   "outputs": [
    {
     "name": "stdout",
     "output_type": "stream",
     "text": [
      "[0]\tvalid-logloss:0.541056\n",
      "Will train until valid-logloss hasn't improved in 20 rounds.\n",
      "[10]\tvalid-logloss:0.307862\n",
      "[20]\tvalid-logloss:0.298075\n",
      "[30]\tvalid-logloss:0.295455\n",
      "[40]\tvalid-logloss:0.29334\n",
      "[50]\tvalid-logloss:0.291916\n",
      "[60]\tvalid-logloss:0.290903\n",
      "[70]\tvalid-logloss:0.290173\n",
      "[80]\tvalid-logloss:0.28934\n",
      "[90]\tvalid-logloss:0.288621\n",
      "[100]\tvalid-logloss:0.28837\n",
      "[110]\tvalid-logloss:0.287884\n",
      "[120]\tvalid-logloss:0.287229\n",
      "[130]\tvalid-logloss:0.286976\n",
      "[140]\tvalid-logloss:0.286541\n",
      "[150]\tvalid-logloss:0.286366\n",
      "[160]\tvalid-logloss:0.286097\n",
      "[170]\tvalid-logloss:0.285907\n",
      "[180]\tvalid-logloss:0.285636\n",
      "[190]\tvalid-logloss:0.285335\n",
      "[200]\tvalid-logloss:0.285057\n",
      "[210]\tvalid-logloss:0.284733\n",
      "[220]\tvalid-logloss:0.284615\n",
      "[230]\tvalid-logloss:0.284457\n",
      "[240]\tvalid-logloss:0.284225\n",
      "[250]\tvalid-logloss:0.284104\n",
      "[260]\tvalid-logloss:0.283704\n",
      "[270]\tvalid-logloss:0.283602\n",
      "[280]\tvalid-logloss:0.283522\n",
      "[290]\tvalid-logloss:0.283529\n"
     ]
    }
   ],
   "source": [
    "# xgb api with additional methods and params \n",
    "\n",
    "X_train, X_test, y_train, y_test = train_test_split(train[col].values, train[\"is_duplicate\"].values, test_size=0.2)\n",
    "\n",
    "# num_testing = 100000\n",
    "# X_train = train[col].values[num_testing:]\n",
    "# X_test = train[col].values[:num_testing]\n",
    "# y_train = train[\"is_duplicate\"].values[num_testing:]\n",
    "# y_test = train[\"is_duplicate\"].values[:num_testing]\n",
    "# # classification\n",
    "\n",
    "#Dtrain = xgb.DMatrix(X_train,y_train,feature_names=col)\n",
    "Dtrain = xgb.DMatrix(X1,y1,feature_names=col) \n",
    "#Dtest = xgb.DMatrix(X_test,y_test,feature_names=col) \n",
    "Dvalid = xgb.DMatrix(X2,y2,feature_names=col)\n",
    "\n",
    "params = {}\n",
    "params[\"objective\"] = \"binary:logistic\"\n",
    "params['eval_metric'] = 'logloss'\n",
    "params[\"max_depth\"] = 6\n",
    "#taking fancy params from matching que for quora gives ~0.02 worse valid logloss and kaggle result\n",
    "\n",
    "watchlist = [(Dvalid,\"valid\")]\n",
    "\n",
    "bst = xgb.train(params, Dtrain, 300, watchlist, early_stopping_rounds=20, verbose_eval=10)\n",
    "#pickle.dump(bst,open(\"xgb.p\",\"wb\"))\n",
    "\n",
    "#Testing different settings: depth 6 for all, valid logloss displayed\n",
    "# normal no upsampling 0.421217\n",
    "# upsampling everything, train and test: 0.28344: after round ~130 no improvement. BUT on kaggle: 0.34\n",
    "# !!!!!upsampling only test set: round 1590: 0.255242 still decreasing. BUT on Kaggle: 0.40"
   ]
  },
  {
   "cell_type": "code",
   "execution_count": 18,
   "metadata": {
    "collapsed": false
   },
   "outputs": [],
   "source": [
    "#bst = pickle.load(open(\"xgb.p\",\"rb\"))\n",
    "Dtest = xgb.DMatrix(test[col].values,feature_names=col)\n",
    "preds = bst.predict(Dtest)\n",
    "\n",
    "test[\"is_duplicate\"] = pd.Series(preds,index=test.index)\n",
    "header = [\"test_id\", \"is_duplicate\"]\n",
    "test.to_csv('../submissions/predictions.csv', columns = header,index=False)"
   ]
  },
  {
   "cell_type": "code",
   "execution_count": 8,
   "metadata": {
    "collapsed": false
   },
   "outputs": [
    {
     "name": "stdout",
     "output_type": "stream",
     "text": [
      "['Importance of information technology?'\n",
      " 'What is the extent of paid media in India?']\n",
      "error: 1.000 with preds 0.000 and truth 1\n",
      "['Which are the best anime?' 'What are some of the best anime shows?']\n",
      "error: 1.000 with preds 0.000 and truth 1\n"
     ]
    }
   ],
   "source": [
    "#looking at wrong questions needs indices aligned in Dvalid and train dataframe aligned!!\n",
    "preds = bst.predict(Dvalid)\n",
    "errors = np.abs(preds-y_test)\n",
    "idx = np.argsort(errors)[::-1]\n",
    "error2 = y_test-preds\n",
    "plt.hist(error2,30)\n",
    "\n",
    "for i in range(2):\n",
    "    print(train.iloc[idx[i],3:5].values)\n",
    "    print(\"error: %.3f with preds %.3f and truth %i\" %(errors[idx[i]],preds[idx[i]],y_test[idx[i]]))"
   ]
  },
  {
   "cell_type": "code",
   "execution_count": 18,
   "metadata": {
    "collapsed": false
   },
   "outputs": [
    {
     "name": "stdout",
     "output_type": "stream",
     "text": [
      "Using matplotlib backend: TkAgg\n"
     ]
    },
    {
     "data": {
      "text/plain": [
       "<matplotlib.axes._subplots.AxesSubplot at 0x7ff75d135cf8>"
      ]
     },
     "execution_count": 18,
     "metadata": {},
     "output_type": "execute_result"
    }
   ],
   "source": [
    "from xgboost import plot_tree\n",
    "%matplotlib \n",
    "plot_tree(bst,num_trees=4)"
   ]
  },
  {
   "cell_type": "code",
   "execution_count": 21,
   "metadata": {
    "collapsed": false
   },
   "outputs": [
    {
     "data": {
      "image/png": "[encoded data removed]",
      "text/plain": [
       "<matplotlib.figure.Figure at 0x7fe2538f86d8>"
      ]
     },
     "metadata": {},
     "output_type": "display_data"
    }
   ],
   "source": [
    "# I don't understand this. with fancy settings from \"matching que for quora\" the ratings make sense\n",
    "# just using standard settings, stupid featlengths and tfidf sums \n",
    "#plt.rcParams['figure.figsize'] = (0, 4.0)\n",
    "xgb.plot_importance(bst); plt.show()"
   ]
  }
 ],
 "metadata": {
  "anaconda-cloud": {},
  "kernelspec": {
   "display_name": "Python 3 keras",
   "language": "python",
   "name": "keras"
  },
  "language_info": {
   "codemirror_mode": {
    "name": "ipython",
    "version": 3
   },
   "file_extension": ".py",
   "mimetype": "text/x-python",
   "name": "python",
   "nbconvert_exporter": "python",
   "pygments_lexer": "ipython3",
   "version": "3.5.2"
  }
 },
 "nbformat": 4,
 "nbformat_minor": 1
}
