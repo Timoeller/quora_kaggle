{
 "cells": [
  {
   "cell_type": "code",
   "execution_count": 1,
   "metadata": {
    "collapsed": false
   },
   "outputs": [
    {
     "name": "stderr",
     "output_type": "stream",
     "text": [
      "/home/timomoeller/.virtualenvs/keras/lib/python3.5/site-packages/IPython/html.py:14: ShimWarning: The `IPython.html` package has been deprecated. You should import from `notebook` instead. `IPython.html.widgets` has moved to `ipywidgets`.\n",
      "  \"`IPython.html.widgets` has moved to `ipywidgets`.\", ShimWarning)\n",
      "Using TensorFlow backend.\n"
     ]
    },
    {
     "name": "stdout",
     "output_type": "stream",
     "text": [
      "[nltk_data] Downloading package stopwords to\n",
      "[nltk_data]     /home/timomoeller/nltk_data...\n",
      "[nltk_data]   Package stopwords is already up-to-date!\n",
      "(404290, 6)\n"
     ]
    },
    {
     "data": {
      "text/html": [
       "<div>\n",
       "<table border=\"1\" class=\"dataframe\">\n",
       "  <thead>\n",
       "    <tr style=\"text-align: right;\">\n",
       "      <th></th>\n",
       "      <th>id</th>\n",
       "      <th>qid1</th>\n",
       "      <th>qid2</th>\n",
       "      <th>question1</th>\n",
       "      <th>question2</th>\n",
       "      <th>is_duplicate</th>\n",
       "    </tr>\n",
       "  </thead>\n",
       "  <tbody>\n",
       "    <tr>\n",
       "      <th>0</th>\n",
       "      <td>0</td>\n",
       "      <td>1</td>\n",
       "      <td>2</td>\n",
       "      <td>What is the step by step guide to invest in sh...</td>\n",
       "      <td>What is the step by step guide to invest in sh...</td>\n",
       "      <td>0</td>\n",
       "    </tr>\n",
       "    <tr>\n",
       "      <th>1</th>\n",
       "      <td>1</td>\n",
       "      <td>3</td>\n",
       "      <td>4</td>\n",
       "      <td>What is the story of Kohinoor (Koh-i-Noor) Dia...</td>\n",
       "      <td>What would happen if the Indian government sto...</td>\n",
       "      <td>0</td>\n",
       "    </tr>\n",
       "  </tbody>\n",
       "</table>\n",
       "</div>"
      ],
      "text/plain": [
       "   id  qid1  qid2                                          question1  \\\n",
       "0   0     1     2  What is the step by step guide to invest in sh...   \n",
       "1   1     3     4  What is the story of Kohinoor (Koh-i-Noor) Dia...   \n",
       "\n",
       "                                           question2  is_duplicate  \n",
       "0  What is the step by step guide to invest in sh...             0  \n",
       "1  What would happen if the Indian government sto...             0  "
      ]
     },
     "execution_count": 1,
     "metadata": {},
     "output_type": "execute_result"
    }
   ],
   "source": [
    "import numpy as np\n",
    "import pandas as pd\n",
    "import matplotlib.pyplot as plt\n",
    "import seaborn as sns\n",
    "\n",
    "%matplotlib inline\n",
    "from keras.utils import np_utils\n",
    "\n",
    "train_df = pd.read_csv('train.csv', sep=',', header=0)\n",
    "test_df = pd.read_csv('test.csv', sep=',', header=0)\n",
    "\n",
    "import nltk\n",
    "nltk.download('stopwords')\n",
    "from nltk import RegexpTokenizer\n",
    "from nltk.corpus import stopwords\n",
    "\n",
    "#removing seemingly useless stopwords decreases performance ~ 1%\n",
    "def removePunktAndStopwords(phrases):\n",
    "    toInclude = set(['above','below','between','but','couldn','didn','doesn','down',\n",
    "                     'few','hadn','haven','isn','just','mightn','mustn','needn','nor',\n",
    "                     'not','off','once','only','out','over','should','shouldn','some',\n",
    "                     'very','wasn','weren','won','wouldn','again','against','all',\n",
    "                     'any','aren'])\n",
    "    stop_wordsLarge = set(stopwords.words('english'))\n",
    "    stop_words = set([w for w in stop_wordsLarge if w not in toInclude])\n",
    "    tokenizer = RegexpTokenizer('[a-z]\\w+')\n",
    "    docs_toke = [tokenizer.tokenize(doc.lower()) for doc in phrases]\n",
    "    stopwordsremoved = [[t for t in temp if t not in stop_words] for temp in docs_toke]\n",
    "    return np.asarray([\" \".join(w) for w in stopwordsremoved])\n",
    "\n",
    "\n",
    "train_df = train_df.fillna(\" \")\n",
    "test_df = test_df.fillna(\" \")\n",
    "print(train_df.shape)\n",
    "train_df.head(2)"
   ]
  },
  {
   "cell_type": "code",
   "execution_count": 2,
   "metadata": {
    "collapsed": false
   },
   "outputs": [
    {
     "data": {
      "image/png": "[encoded data removed]",
      "text/plain": [
       "<matplotlib.figure.Figure at 0x7fb72ebcaeb8>"
      ]
     },
     "metadata": {},
     "output_type": "display_data"
    }
   ],
   "source": [
    "questions2 = train_df[\"question2\"].values\n",
    "length2 = np.array([len(x.split()) for x in questions2])\n",
    "questions1 = train_df[\"question1\"].values\n",
    "length1 = np.array([len(x.split()) for x in questions1])\n",
    "plt.figure()\n",
    "\n",
    "plt.hist(length1,40,range=[0,55])\n",
    "plt.hist(length2,40,range=[0,55])\n",
    "plt.show()"
   ]
  },
  {
   "cell_type": "code",
   "execution_count": 3,
   "metadata": {
    "collapsed": false
   },
   "outputs": [
    {
     "name": "stdout",
     "output_type": "stream",
     "text": [
      "Found 400000 word vectors.\n",
      "Using 60337 word vectors of total vocabulary size: 95596\n"
     ]
    }
   ],
   "source": [
    "from keras.preprocessing.text import Tokenizer\n",
    "from keras.preprocessing.sequence import pad_sequences\n",
    "MAX_SEQUENCE_LENGTH = 25\n",
    "EMBEDDING_DIM = 100\n",
    "\n",
    "\n",
    "toke = Tokenizer()\n",
    "toke.fit_on_texts(np.concatenate([questions1,questions2],axis=0))\n",
    "\n",
    "sequences1 = toke.texts_to_sequences(questions1)\n",
    "sequencesReverse1 = [s[::-1] for s in sequences1]\n",
    "sequences2 = toke.texts_to_sequences(questions2)\n",
    "sequencesReverse2 = [s[::-1] for s in sequences2]\n",
    "\n",
    "\n",
    "word_index = toke.word_index\n",
    "X_train_forward1 = pad_sequences(sequences1, maxlen=MAX_SEQUENCE_LENGTH)\n",
    "X_train_reverse1 = pad_sequences(sequencesReverse1, maxlen=MAX_SEQUENCE_LENGTH)\n",
    "X_train_forward2 = pad_sequences(sequences2, maxlen=MAX_SEQUENCE_LENGTH)\n",
    "X_train_reverse2 = pad_sequences(sequencesReverse2, maxlen=MAX_SEQUENCE_LENGTH)\n",
    "\n",
    "y_train = train_df[\"is_duplicate\"].values #np_utils.to_categorical()\n",
    "\n",
    "\n",
    "#load glove vectors\n",
    "#download them from http://nlp.stanford.edu/data/glove.6B.zip\n",
    "embeddings_index = {}\n",
    "GLOVE_DIR = '/home/timomoeller/Programming/notebooks/rotten/glove.6B'\n",
    "import os\n",
    "f = open(os.path.join(GLOVE_DIR, 'glove.6B.%id.txt' %EMBEDDING_DIM))\n",
    "for line in f:\n",
    "    values = line.split()\n",
    "    word = values[0]\n",
    "    coefs = np.asarray(values[1:], dtype='float32')\n",
    "    embeddings_index[word] = coefs\n",
    "f.close()\n",
    "print('Found %s word vectors.' % len(embeddings_index))\n",
    "#take only word vecs that are in training dictionary\n",
    "#embedding_matrix = np.zeros((len(word_index) + 1, EMBEDDING_DIM)) # like that unable to learn unknown wordsembeddings \n",
    "\n",
    "embedding_matrix = np.random.uniform(-0.1,0.1,size=(len(word_index) + 1, EMBEDDING_DIM))\n",
    "found = 0\n",
    "for word, i in word_index.items():\n",
    "    embedding_vector = embeddings_index.get(word)\n",
    "    if embedding_vector is not None:\n",
    "        # words not found in embedding index will be all-zeros.\n",
    "        found +=1\n",
    "        embedding_matrix[i] = embedding_vector\n",
    "        \n",
    "print('Using %i word vectors of total vocabulary size: %i ' %(found,len(word_index)))"
   ]
  },
  {
   "cell_type": "code",
   "execution_count": 7,
   "metadata": {
    "collapsed": false
   },
   "outputs": [
    {
     "name": "stdout",
     "output_type": "stream",
     "text": [
      "____________________________________________________________________________________________________\n",
      "Layer (type)                     Output Shape          Param #     Connected to                     \n",
      "====================================================================================================\n",
      "input_5 (InputLayer)             (None, 25)            0                                            \n",
      "____________________________________________________________________________________________________\n",
      "input_6 (InputLayer)             (None, 25)            0                                            \n",
      "____________________________________________________________________________________________________\n",
      "input_7 (InputLayer)             (None, 25)            0                                            \n",
      "____________________________________________________________________________________________________\n",
      "input_8 (InputLayer)             (None, 25)            0                                            \n",
      "____________________________________________________________________________________________________\n",
      "embedding_5 (Embedding)          (None, 25, 100)       9559700                                      \n",
      "____________________________________________________________________________________________________\n",
      "embedding_6 (Embedding)          (None, 25, 100)       9559700                                      \n",
      "____________________________________________________________________________________________________\n",
      "embedding_7 (Embedding)          (None, 25, 100)       9559700                                      \n",
      "____________________________________________________________________________________________________\n",
      "embedding_8 (Embedding)          (None, 25, 100)       9559700                                      \n",
      "____________________________________________________________________________________________________\n",
      "lstm_5 (LSTM)                    (None, 100)           80400                                        \n",
      "____________________________________________________________________________________________________\n",
      "lstm_6 (LSTM)                    (None, 100)           80400                                        \n",
      "____________________________________________________________________________________________________\n",
      "lstm_7 (LSTM)                    (None, 100)           80400                                        \n",
      "____________________________________________________________________________________________________\n",
      "lstm_8 (LSTM)                    (None, 100)           80400                                        \n",
      "____________________________________________________________________________________________________\n",
      "concatenate_4 (Concatenate)      (None, 200)           0                                            \n",
      "____________________________________________________________________________________________________\n",
      "concatenate_5 (Concatenate)      (None, 200)           0                                            \n",
      "____________________________________________________________________________________________________\n",
      "concatenate_6 (Concatenate)      (None, 400)           0                                            \n",
      "____________________________________________________________________________________________________\n",
      "dropout_4 (Dropout)              (None, 400)           0                                            \n",
      "____________________________________________________________________________________________________\n",
      "batch_normalization_4 (BatchNorm (None, 400)           1600                                         \n",
      "____________________________________________________________________________________________________\n",
      "dense_4 (Dense)                  (None, 500)           200500                                       \n",
      "____________________________________________________________________________________________________\n",
      "p_re_lu_3 (PReLU)                (None, 500)           500                                          \n",
      "____________________________________________________________________________________________________\n",
      "dropout_5 (Dropout)              (None, 500)           0                                            \n",
      "____________________________________________________________________________________________________\n",
      "batch_normalization_5 (BatchNorm (None, 500)           2000                                         \n",
      "____________________________________________________________________________________________________\n",
      "dense_5 (Dense)                  (None, 500)           250500                                       \n",
      "____________________________________________________________________________________________________\n",
      "p_re_lu_4 (PReLU)                (None, 500)           500                                          \n",
      "____________________________________________________________________________________________________\n",
      "dropout_6 (Dropout)              (None, 500)           0                                            \n",
      "____________________________________________________________________________________________________\n",
      "batch_normalization_6 (BatchNorm (None, 500)           2000                                         \n",
      "____________________________________________________________________________________________________\n",
      "dense_6 (Dense)                  (None, 1)             501                                          \n",
      "====================================================================================================\n",
      "Total params: 39,018,501.0\n",
      "Trainable params: 39,015,701.0\n",
      "Non-trainable params: 2,800.0\n",
      "____________________________________________________________________________________________________\n"
     ]
    }
   ],
   "source": [
    "#LSTM with embedding trainable\n",
    "from keras.models import Model\n",
    "from keras.layers import Input\n",
    "from keras.optimizers import Adam\n",
    "from keras.layers import Dense, Dropout, Activation, Embedding, BatchNormalization\n",
    "from keras.layers import LSTM\n",
    "from keras.layers.merge import Concatenate\n",
    "from keras.layers.advanced_activations import PReLU\n",
    "\n",
    "opt = Adam(lr=0.001,beta_1=0.5)\n",
    "\n",
    "#QUESTION1\n",
    "inpONE_forward = Input(shape=X_train_forward1.shape[1:])\n",
    "xf = Embedding(len(word_index) + 1,\n",
    "              EMBEDDING_DIM,\n",
    "              weights=[embedding_matrix],\n",
    "              input_length=MAX_SEQUENCE_LENGTH,\n",
    "              trainable=True,\n",
    "              input_shape=X_train_forward1.shape[1:])(inpONE_forward)\n",
    "xf = LSTM(100, return_sequences=False, dropout=0.3, recurrent_dropout=0.3)(xf)\n",
    "\n",
    "inpONE_reverse = Input(shape=X_train_reverse1.shape[1:])\n",
    "xr = Embedding(len(word_index) + 1,\n",
    "              EMBEDDING_DIM,\n",
    "              weights=[embedding_matrix],\n",
    "              input_length=MAX_SEQUENCE_LENGTH,\n",
    "              trainable=True,\n",
    "              input_shape=X_train_reverse1.shape[1:])(inpONE_reverse)\n",
    "xr = LSTM(100, return_sequences=False, dropout=0.3, recurrent_dropout=0.3)(xr)\n",
    "x1 = Concatenate(axis=1)([xf,xr])\n",
    "\n",
    "\n",
    "\n",
    "#QUESTION2\n",
    "inpTWO_forward = Input(shape=X_train_forward2.shape[1:])\n",
    "xf = Embedding(len(word_index) + 1,\n",
    "              EMBEDDING_DIM,\n",
    "              weights=[embedding_matrix],\n",
    "              input_length=MAX_SEQUENCE_LENGTH,\n",
    "              trainable=True,\n",
    "              input_shape=X_train_forward2.shape[1:])(inpTWO_forward)\n",
    "xf = LSTM(100, return_sequences=False, dropout=0.3, recurrent_dropout=0.3)(xf)\n",
    "\n",
    "inpTWO_reverse = Input(shape=X_train_reverse2.shape[1:])\n",
    "xr = Embedding(len(word_index) + 1,\n",
    "              EMBEDDING_DIM,\n",
    "              weights=[embedding_matrix],\n",
    "              input_length=MAX_SEQUENCE_LENGTH,\n",
    "              trainable=True,\n",
    "              input_shape=X_train_reverse2.shape[1:])(inpTWO_reverse)\n",
    "xr = LSTM(100, return_sequences=False, dropout=0.3, recurrent_dropout=0.3)(xr)\n",
    "x2 = Concatenate(axis=1)([xf,xr])\n",
    "\n",
    "# COMBINE\n",
    "x = Concatenate(axis=1)([x1,x2])\n",
    "x = Dropout(0.3)(x)\n",
    "x = BatchNormalization()(x)\n",
    "\n",
    "x = Dense(500)(x)\n",
    "x = PReLU()(x)\n",
    "x = Dropout(0.3)(x)\n",
    "x = BatchNormalization()(x)\n",
    "\n",
    "x = Dense(500)(x)\n",
    "x = PReLU()(x)\n",
    "x = Dropout(0.3)(x)\n",
    "x = BatchNormalization()(x)\n",
    "pred = Dense(1,activation='sigmoid')(x)\n",
    "\n",
    "model = Model([inpONE_forward,inpONE_reverse,inpTWO_forward,inpTWO_reverse],pred)\n",
    "model.compile(loss='binary_crossentropy', optimizer=opt, metrics=['binary_accuracy'])\n",
    "model.summary()"
   ]
  },
  {
   "cell_type": "code",
   "execution_count": 10,
   "metadata": {
    "collapsed": false
   },
   "outputs": [
    {
     "name": "stdout",
     "output_type": "stream",
     "text": [
      "Train on 363861 samples, validate on 40429 samples\n",
      "Epoch 1/10\n",
      "363850/363861 [============================>.] - ETA: 0s - loss: 0.5362 - binary_accuracy: 0.7292Epoch 00000: val_loss improved from inf to 0.46679, saving model to /home/timomoeller/Programming/kaggle/quora/tmp/weights.hdf5\n",
      "363861/363861 [==============================] - 1312s - loss: 0.5362 - binary_accuracy: 0.7292 - val_loss: 0.4668 - val_binary_accuracy: 0.7697\n",
      "Epoch 2/10\n",
      "363850/363861 [============================>.] - ETA: 0s - loss: 0.4456 - binary_accuracy: 0.7892Epoch 00001: val_loss improved from 0.46679 to 0.43040, saving model to /home/timomoeller/Programming/kaggle/quora/tmp/weights.hdf5\n",
      "363861/363861 [==============================] - 1295s - loss: 0.4456 - binary_accuracy: 0.7892 - val_loss: 0.4304 - val_binary_accuracy: 0.7955\n",
      "Epoch 3/10\n",
      "363850/363861 [============================>.] - ETA: 0s - loss: 0.3959 - binary_accuracy: 0.8172Epoch 00002: val_loss improved from 0.43040 to 0.42680, saving model to /home/timomoeller/Programming/kaggle/quora/tmp/weights.hdf5\n",
      "363861/363861 [==============================] - 1296s - loss: 0.3959 - binary_accuracy: 0.8172 - val_loss: 0.4268 - val_binary_accuracy: 0.7945\n",
      "Epoch 4/10\n",
      "363850/363861 [============================>.] - ETA: 0s - loss: 0.3580 - binary_accuracy: 0.8380Epoch 00003: val_loss did not improve\n",
      "363861/363861 [==============================] - 1296s - loss: 0.3579 - binary_accuracy: 0.8381 - val_loss: 0.4290 - val_binary_accuracy: 0.8039\n",
      "Epoch 5/10\n",
      "363850/363861 [============================>.] - ETA: 0s - loss: 0.3269 - binary_accuracy: 0.8544Epoch 00004: val_loss improved from 0.42680 to 0.41729, saving model to /home/timomoeller/Programming/kaggle/quora/tmp/weights.hdf5\n",
      "363861/363861 [==============================] - 1297s - loss: 0.3269 - binary_accuracy: 0.8544 - val_loss: 0.4173 - val_binary_accuracy: 0.8072\n",
      "Epoch 6/10\n",
      "363850/363861 [============================>.] - ETA: 0s - loss: 0.3019 - binary_accuracy: 0.8671Epoch 00005: val_loss did not improve\n",
      "363861/363861 [==============================] - 1297s - loss: 0.3019 - binary_accuracy: 0.8671 - val_loss: 0.4524 - val_binary_accuracy: 0.8053\n",
      "Epoch 7/10\n",
      "363850/363861 [============================>.] - ETA: 0s - loss: 0.2808 - binary_accuracy: 0.8775Epoch 00006: val_loss did not improve\n",
      "363861/363861 [==============================] - 1298s - loss: 0.2808 - binary_accuracy: 0.8775 - val_loss: 0.4551 - val_binary_accuracy: 0.8053\n",
      "Epoch 8/10\n",
      "363850/363861 [============================>.] - ETA: 0s - loss: 0.2622 - binary_accuracy: 0.8865Epoch 00007: val_loss did not improve\n",
      "363861/363861 [==============================] - 1298s - loss: 0.2622 - binary_accuracy: 0.8865 - val_loss: 0.4619 - val_binary_accuracy: 0.8043\n",
      "Epoch 9/10\n",
      "363850/363861 [============================>.] - ETA: 0s - loss: 0.2492 - binary_accuracy: 0.8935Epoch 00008: val_loss did not improve\n",
      "363861/363861 [==============================] - 1298s - loss: 0.2492 - binary_accuracy: 0.8935 - val_loss: 0.4875 - val_binary_accuracy: 0.8080\n",
      "Epoch 10/10\n",
      "363850/363861 [============================>.] - ETA: 0s - loss: 0.2354 - binary_accuracy: 0.9006Epoch 00009: val_loss did not improve\n",
      "363861/363861 [==============================] - 1299s - loss: 0.2354 - binary_accuracy: 0.9006 - val_loss: 0.4863 - val_binary_accuracy: 0.8081\n",
      "2345750/2345796 [============================>.] - ETA: 0s"
     ]
    },
    {
     "ename": "Exception",
     "evalue": "Data must be 1-dimensional",
     "output_type": "error",
     "traceback": [
      "\u001b[0;31m---------------------------------------------------------------------------\u001b[0m",
      "\u001b[0;31mException\u001b[0m                                 Traceback (most recent call last)",
      "\u001b[0;32m<ipython-input-10-25d0261391a4>\u001b[0m in \u001b[0;36m<module>\u001b[0;34m()\u001b[0m\n\u001b[1;32m     31\u001b[0m \u001b[0;34m\u001b[0m\u001b[0m\n\u001b[1;32m     32\u001b[0m \u001b[0;34m\u001b[0m\u001b[0m\n\u001b[0;32m---> 33\u001b[0;31m \u001b[0mtest_df\u001b[0m\u001b[0;34m[\u001b[0m\u001b[0;34m\"is_duplicate\"\u001b[0m\u001b[0;34m]\u001b[0m \u001b[0;34m=\u001b[0m \u001b[0mpd\u001b[0m\u001b[0;34m.\u001b[0m\u001b[0mSeries\u001b[0m\u001b[0;34m(\u001b[0m\u001b[0mpreds\u001b[0m\u001b[0;34m,\u001b[0m\u001b[0mindex\u001b[0m\u001b[0;34m=\u001b[0m\u001b[0mtest_df\u001b[0m\u001b[0;34m.\u001b[0m\u001b[0mindex\u001b[0m\u001b[0;34m)\u001b[0m\u001b[0;34m\u001b[0m\u001b[0m\n\u001b[0m\u001b[1;32m     34\u001b[0m \u001b[0mheader\u001b[0m \u001b[0;34m=\u001b[0m \u001b[0;34m[\u001b[0m\u001b[0;34m\"test_id\"\u001b[0m\u001b[0;34m,\u001b[0m \u001b[0;34m\"is_duplicate\"\u001b[0m\u001b[0;34m]\u001b[0m\u001b[0;34m\u001b[0m\u001b[0m\n\u001b[1;32m     35\u001b[0m \u001b[0mtest_df\u001b[0m\u001b[0;34m.\u001b[0m\u001b[0mto_csv\u001b[0m\u001b[0;34m(\u001b[0m\u001b[0;34m'submissions/predictions.csv'\u001b[0m\u001b[0;34m,\u001b[0m \u001b[0mcolumns\u001b[0m \u001b[0;34m=\u001b[0m \u001b[0mheader\u001b[0m\u001b[0;34m,\u001b[0m\u001b[0mindex\u001b[0m\u001b[0;34m=\u001b[0m\u001b[0;32mFalse\u001b[0m\u001b[0;34m)\u001b[0m\u001b[0;34m\u001b[0m\u001b[0m\n",
      "\u001b[0;32m/home/timomoeller/.virtualenvs/keras/lib/python3.5/site-packages/pandas/core/series.py\u001b[0m in \u001b[0;36m__init__\u001b[0;34m(self, data, index, dtype, name, copy, fastpath)\u001b[0m\n\u001b[1;32m    241\u001b[0m             \u001b[0;32melse\u001b[0m\u001b[0;34m:\u001b[0m\u001b[0;34m\u001b[0m\u001b[0m\n\u001b[1;32m    242\u001b[0m                 data = _sanitize_array(data, index, dtype, copy,\n\u001b[0;32m--> 243\u001b[0;31m                                        raise_cast_failure=True)\n\u001b[0m\u001b[1;32m    244\u001b[0m \u001b[0;34m\u001b[0m\u001b[0m\n\u001b[1;32m    245\u001b[0m                 \u001b[0mdata\u001b[0m \u001b[0;34m=\u001b[0m \u001b[0mSingleBlockManager\u001b[0m\u001b[0;34m(\u001b[0m\u001b[0mdata\u001b[0m\u001b[0;34m,\u001b[0m \u001b[0mindex\u001b[0m\u001b[0;34m,\u001b[0m \u001b[0mfastpath\u001b[0m\u001b[0;34m=\u001b[0m\u001b[0;32mTrue\u001b[0m\u001b[0;34m)\u001b[0m\u001b[0;34m\u001b[0m\u001b[0m\n",
      "\u001b[0;32m/home/timomoeller/.virtualenvs/keras/lib/python3.5/site-packages/pandas/core/series.py\u001b[0m in \u001b[0;36m_sanitize_array\u001b[0;34m(data, index, dtype, copy, raise_cast_failure)\u001b[0m\n\u001b[1;32m   2948\u001b[0m     \u001b[0;32melif\u001b[0m \u001b[0msubarr\u001b[0m\u001b[0;34m.\u001b[0m\u001b[0mndim\u001b[0m \u001b[0;34m>\u001b[0m \u001b[0;36m1\u001b[0m\u001b[0;34m:\u001b[0m\u001b[0;34m\u001b[0m\u001b[0m\n\u001b[1;32m   2949\u001b[0m         \u001b[0;32mif\u001b[0m \u001b[0misinstance\u001b[0m\u001b[0;34m(\u001b[0m\u001b[0mdata\u001b[0m\u001b[0;34m,\u001b[0m \u001b[0mnp\u001b[0m\u001b[0;34m.\u001b[0m\u001b[0mndarray\u001b[0m\u001b[0;34m)\u001b[0m\u001b[0;34m:\u001b[0m\u001b[0;34m\u001b[0m\u001b[0m\n\u001b[0;32m-> 2950\u001b[0;31m             \u001b[0;32mraise\u001b[0m \u001b[0mException\u001b[0m\u001b[0;34m(\u001b[0m\u001b[0;34m'Data must be 1-dimensional'\u001b[0m\u001b[0;34m)\u001b[0m\u001b[0;34m\u001b[0m\u001b[0m\n\u001b[0m\u001b[1;32m   2951\u001b[0m         \u001b[0;32melse\u001b[0m\u001b[0;34m:\u001b[0m\u001b[0;34m\u001b[0m\u001b[0m\n\u001b[1;32m   2952\u001b[0m             \u001b[0msubarr\u001b[0m \u001b[0;34m=\u001b[0m \u001b[0m_asarray_tuplesafe\u001b[0m\u001b[0;34m(\u001b[0m\u001b[0mdata\u001b[0m\u001b[0;34m,\u001b[0m \u001b[0mdtype\u001b[0m\u001b[0;34m=\u001b[0m\u001b[0mdtype\u001b[0m\u001b[0;34m)\u001b[0m\u001b[0;34m\u001b[0m\u001b[0m\n",
      "\u001b[0;31mException\u001b[0m: Data must be 1-dimensional"
     ]
    }
   ],
   "source": [
    "from keras.callbacks import ModelCheckpoint\n",
    "checkpointer = ModelCheckpoint(filepath=\"/home/timomoeller/Programming/kaggle/quora/tmp/weights.hdf5\", verbose=1, save_best_only=True)\n",
    "\n",
    "losses = model.fit([X_train_forward1,X_train_reverse1,X_train_forward2,X_train_reverse2],\n",
    "                  y_train,\n",
    "                  epochs=10,\n",
    "                  batch_size=50,\n",
    "                  verbose=1,\n",
    "                  validation_split=0.1,\n",
    "                  callbacks=[checkpointer])\n",
    "\n",
    "\n",
    "\n",
    "test_df = test_df.fillna(\" \")\n",
    "test_questions1 = test_df[\"question1\"].values\n",
    "test_questions2 = test_df[\"question2\"].values\n",
    "\n",
    "\n",
    "\n",
    "seqsTest1 = toke.texts_to_sequences(test_questions1)\n",
    "seqsTestReverse1 = [s[::-1] for s in seqsTest1]\n",
    "X_test_forward1 = pad_sequences(seqsTest1, maxlen=MAX_SEQUENCE_LENGTH)\n",
    "X_test_reverse1 = pad_sequences(seqsTestReverse1, maxlen=MAX_SEQUENCE_LENGTH)\n",
    "seqsTest2 = toke.texts_to_sequences(test_questions2)\n",
    "seqsTestReverse2 = [s[::-1] for s in seqsTest2]\n",
    "X_test_forward2 = pad_sequences(seqsTest2, maxlen=MAX_SEQUENCE_LENGTH)\n",
    "X_test_reverse2 = pad_sequences(seqsTestReverse2, maxlen=MAX_SEQUENCE_LENGTH)\n",
    "\n",
    "preds = model.predict([X_test_forward1,X_test_reverse1,X_test_forward2,X_test_reverse2],batch_size=50,verbose=1)\n",
    "\n",
    "\n",
    "\n",
    "test_df[\"is_duplicate\"] = pd.Series(preds[:,0],index=test_df.index)\n",
    "header = [\"test_id\", \"is_duplicate\"]\n",
    "test_df.to_csv('submissions/predictions.csv', columns = header,index=False)"
   ]
  },
  {
   "cell_type": "code",
   "execution_count": 13,
   "metadata": {
    "collapsed": false
   },
   "outputs": [],
   "source": [
    "test_df[\"is_duplicate\"] = pd.Series(preds[:,0],index=test_df.index)\n",
    "header = [\"test_id\", \"is_duplicate\"]\n",
    "test_df.to_csv('submissions/predictions.csv', columns = header,index=False)"
   ]
  },
  {
   "cell_type": "code",
   "execution_count": 22,
   "metadata": {
    "collapsed": false
   },
   "outputs": [
    {
     "name": "stderr",
     "output_type": "stream",
     "text": [
      "/home/timomoeller/.virtualenvs/keras/lib/python3.5/site-packages/matplotlib-2.0.0+3752.gd278160-py3.5-linux-x86_64.egg/matplotlib/legend.py:325: UserWarning: Unrecognized location \"lower_left\". Falling back on \"best\"; valid locations are\n",
      "\tcenter\n",
      "\tbest\n",
      "\tcenter left\n",
      "\tcenter right\n",
      "\tupper right\n",
      "\tlower right\n",
      "\tlower left\n",
      "\tupper left\n",
      "\tlower center\n",
      "\tright\n",
      "\tupper center\n",
      "\n",
      "  % (loc, '\\n\\t'.join(self.codes)))\n"
     ]
    },
    {
     "data": {
      "image/png": "[encoded data removed]",
      "text/plain": [
       "<matplotlib.figure.Figure at 0x7fb5f3584128>"
      ]
     },
     "metadata": {},
     "output_type": "display_data"
    }
   ],
   "source": [
    "keys = list(losses.history.keys())\n",
    "for key in keys:\n",
    "    plt.plot(losses.history.get(key),label=key)\n",
    "    \n",
    "plt.legend(loc=\"lower_left\")\n",
    "plt.show()"
   ]
  },
  {
   "cell_type": "code",
   "execution_count": 25,
   "metadata": {
    "collapsed": false
   },
   "outputs": [
    {
     "data": {
      "text/plain": [
       "(array([ 908200.,  161517.,  100090.,   74116.,   58764.,   48571.,\n",
       "          42182.,   36937.,   33315.,   30441.,   28075.,   26161.,\n",
       "          24582.,   23236.,   21968.,   21219.,   20522.,   20076.,\n",
       "          19542.,   18886.,   18682.,   18477.,   18106.,   17970.,\n",
       "          17999.,   17723.,   17357.,   17432.,   17494.,   17662.,\n",
       "          17445.,   17487.,   18050.,   18225.,   18202.,   18663.,\n",
       "          18956.,   18600.,   19023.,   19279.,   19500.,   19956.,\n",
       "          20209.,   20657.,   20734.,   21991.,   23521.,   26520.,\n",
       "          32538.,   58938.]),\n",
       " array([  6.66326994e-11,   1.99997950e-02,   3.99995900e-02,\n",
       "          5.99993849e-02,   7.99991799e-02,   9.99989749e-02,\n",
       "          1.19998770e-01,   1.39998565e-01,   1.59998360e-01,\n",
       "          1.79998155e-01,   1.99997950e-01,   2.19997745e-01,\n",
       "          2.39997540e-01,   2.59997335e-01,   2.79997129e-01,\n",
       "          2.99996924e-01,   3.19996719e-01,   3.39996514e-01,\n",
       "          3.59996309e-01,   3.79996104e-01,   3.99995899e-01,\n",
       "          4.19995694e-01,   4.39995489e-01,   4.59995284e-01,\n",
       "          4.79995079e-01,   4.99994874e-01,   5.19994669e-01,\n",
       "          5.39994464e-01,   5.59994259e-01,   5.79994054e-01,\n",
       "          5.99993849e-01,   6.19993644e-01,   6.39993439e-01,\n",
       "          6.59993234e-01,   6.79993029e-01,   6.99992824e-01,\n",
       "          7.19992619e-01,   7.39992414e-01,   7.59992208e-01,\n",
       "          7.79992003e-01,   7.99991798e-01,   8.19991593e-01,\n",
       "          8.39991388e-01,   8.59991183e-01,   8.79990978e-01,\n",
       "          8.99990773e-01,   9.19990568e-01,   9.39990363e-01,\n",
       "          9.59990158e-01,   9.79989953e-01,   9.99989748e-01]),\n",
       " <a list of 50 Patch objects>)"
      ]
     },
     "execution_count": 25,
     "metadata": {},
     "output_type": "execute_result"
    },
    {
     "data": {
      "image/png": "[encoded data removed]",
      "text/plain": [
       "<matplotlib.figure.Figure at 0x7fb5f357c860>"
      ]
     },
     "metadata": {},
     "output_type": "display_data"
    }
   ],
   "source": [
    "plt.hist(preds,50)"
   ]
  },
  {
   "cell_type": "code",
   "execution_count": 42,
   "metadata": {
    "collapsed": false
   },
   "outputs": [
    {
     "name": "stdout",
     "output_type": "stream",
     "text": [
      "0.771438351843\n",
      "0.630802146974\n"
     ]
    },
    {
     "data": {
      "text/plain": [
       "array([[ 'How will scrapping currency notes of INR 500 and INR 1000 will bring the black move deposited in Swiss bank accounts back to India?',\n",
       "        'What will happen to corruption money deposited by Indian politicians in Swiss bank use banning 500 and 1000 rupees notes?'],\n",
       "       ['How so I stop my Shepherd-Husky mix puppy from biting my shoes?',\n",
       "        'How can I stop my Yorkie/Corgi mix from chewing my shoes?'],\n",
       "       ['How can improve my oral English?',\n",
       "        \"How can españa' improve my spoken English?\"],\n",
       "       ['How do I use Jio australians in 3G devices?',\n",
       "        'How can we man Jio sim in 3G phone?'],\n",
       "       [ 'What will be the impact on real estate by banning 500 and 1000 rupee notes from India?',\n",
       "        'What will be the effect of banning 500 & 1000 rupees notes on the real estate?']], dtype=object)"
      ]
     },
     "execution_count": 42,
     "metadata": {},
     "output_type": "execute_result"
    }
   ],
   "source": [
    "print(np.sum(preds<0.5)/preds.shape[0])\n",
    "print(np.sum(y_train == 0)/y_train.shape[0])\n",
    "idx = np.nonzero(preds>0.999)[0]\n",
    "test_df.iloc[idx[:5],1:3].values"
   ]
  }
 ],
 "metadata": {
  "anaconda-cloud": {},
  "kernelspec": {
   "display_name": "Python 3 keras",
   "language": "python",
   "name": "keras"
  },
  "language_info": {
   "codemirror_mode": {
    "name": "ipython",
    "version": 3
   },
   "file_extension": ".py",
   "mimetype": "text/x-python",
   "name": "python",
   "nbconvert_exporter": "python",
   "pygments_lexer": "ipython3",
   "version": "3.5.2"
  }
 },
 "nbformat": 4,
 "nbformat_minor": 1
}
