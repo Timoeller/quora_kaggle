{
 "cells": [
  {
   "cell_type": "code",
   "execution_count": 14,
   "metadata": {
    "collapsed": false
   },
   "outputs": [
    {
     "name": "stdout",
     "output_type": "stream",
     "text": [
      "[nltk_data] Downloading package stopwords to /home/ubuntu/nltk_data...\n",
      "[nltk_data]   Package stopwords is already up-to-date!\n",
      "(404290, 6)\n"
     ]
    }
   ],
   "source": [
    "import numpy as np\n",
    "import pandas as pd\n",
    "import matplotlib.pyplot as plt\n",
    "#import seaborn as sns\n",
    "\n",
    "%matplotlib inline\n",
    "from keras.utils import np_utils\n",
    "\n",
    "train_df = pd.read_csv('data/train.csv', sep=',', header=0)\n",
    "test_df = pd.read_csv('data/test.csv', sep=',', header=0)\n",
    "\n",
    "import nltk\n",
    "nltk.download('stopwords')\n",
    "from nltk import RegexpTokenizer\n",
    "from nltk.corpus import stopwords\n",
    "\n",
    "#removing seemingly useless stopwords decreases performance ~ 1%\n",
    "def removePunktAndStopwords(phrases):\n",
    "    toInclude = set(['above','below','between','but','couldn','didn','doesn','down',\n",
    "                     'few','hadn','haven','isn','just','mightn','mustn','most','needn','nor',\n",
    "                     'not','off','once','only','out','over','should','shouldn','some',\n",
    "                     'very','wasn','weren','won','wouldn','again','against','all',\n",
    "                     'any','aren','you','in','how','what','why','who','will','there'])\n",
    "    stop_wordsLarge = set(stopwords.words('english'))\n",
    "    stop_words = set([w for w in stop_wordsLarge if w not in toInclude])\n",
    "    tokenizer = RegexpTokenizer('[a-z]\\w+')\n",
    "    docs_toke = [tokenizer.tokenize(doc.lower()) for doc in phrases]\n",
    "    stopwordsremoved = [[t for t in temp if t not in stop_words] for temp in docs_toke]\n",
    "    return np.asarray([\" \".join(w) for w in stopwordsremoved])\n",
    "\n",
    "\n",
    "train_df = train_df.fillna(\" \")\n",
    "#shuffle trainset\n",
    "train_df = train_df.sample(frac=1)\n",
    "\n",
    "test_df = test_df.fillna(\" \")\n",
    "\n",
    "print(train_df.shape)\n",
    "train_df.head(2)\n",
    "\n",
    "train_df['question2'] = removePunktAndStopwords(train_df['question2'])\n",
    "train_df['question1'] = removePunktAndStopwords(train_df['question1'])"
   ]
  },
  {
   "cell_type": "code",
   "execution_count": null,
   "metadata": {
    "collapsed": true
   },
   "outputs": [],
   "source": [
    "#rebalance training set\n",
    "#incr. neg. cases by 287% => \n",
    "#select\n",
    "pos_train = train_df[is_duplicate == 1]\n",
    "neg_train = train_df[is_duplicate == 0]\n",
    "\n",
    "# Now we oversample the negative class\n",
    "# There is likely a much more elegant way to do this...\n",
    "p = 0.165\n",
    "scale = ((len(pos_train) / (len(pos_train) + len(neg_train))) / p) - 1\n"
   ]
  },
  {
   "cell_type": "code",
   "execution_count": null,
   "metadata": {
    "collapsed": true
   },
   "outputs": [],
   "source": [
    "while scale > 1:\n",
    "    neg_train = pd.concat([neg_train, neg_train])\n",
    "    scale -=1\n",
    "neg_train = pd.concat([neg_train, neg_train[:int(scale * len(neg_train))]])\n",
    "print(len(pos_train) / (len(pos_train) + len(neg_train)))\n",
    "x_train = pd.concat([pos_train, neg_train])\n",
    "y_train = (np.zeros(len(pos_train)) + 1).tolist() + np.zeros(len(neg_train)).tolist()\n",
    "del pos_train, neg_train"
   ]
  },
  {
   "cell_type": "code",
   "execution_count": null,
   "metadata": {
    "collapsed": true
   },
   "outputs": [],
   "source": [
    "#add features\n",
    "import difflib\n",
    "def diff_ratios(st1, st2):\n",
    "    seq = difflib.SequenceMatcher()\n",
    "    seq.set_seqs(str(st1).lower(), str(st2).lower())\n",
    "    return seq.ratio()\n",
    "train_df['z_match_ratio'] = train_df.apply(lambda r: diff_ratios(r.question1, r.question2), axis=1)\n"
   ]
  },
  {
   "cell_type": "code",
   "execution_count": 15,
   "metadata": {
    "collapsed": false
   },
   "outputs": [
    {
     "data": {
      "text/plain": [
       "<matplotlib.figure.Figure at 0x7f2703f19c50>"
      ]
     },
     "metadata": {},
     "output_type": "display_data"
    },
    {
     "data": {
      "image/png": "[encoded data removed]",
      "text/plain": [
       "<matplotlib.figure.Figure at 0x7f2703f194e0>"
      ]
     },
     "metadata": {},
     "output_type": "display_data"
    }
   ],
   "source": [
    "questions2 = train_df[\"question2\"].values\n",
    "length2 = np.array([len(x.split()) for x in questions2])\n",
    "questions1 = train_df[\"question1\"].values\n",
    "length1 = np.array([len(x.split()) for x in questions1])\n",
    "plt.figure()\n",
    "\n",
    "#test\n",
    "questions1 = train_df[\"question1\"].values\n",
    "length1 = np.array([len(x.split()) for x in questions1])\n",
    "plt.figure()\n",
    "\n",
    "plt.hist(length1,40,range=[0,55])\n",
    "plt.hist(length2,40,range=[0,55])\n",
    "plt.show()"
   ]
  },
  {
   "cell_type": "code",
   "execution_count": 16,
   "metadata": {
    "collapsed": false
   },
   "outputs": [
    {
     "name": "stdout",
     "output_type": "stream",
     "text": [
      "Found 400000 word vectors.\n",
      "Using 59020 word vectors of total vocabulary size: 81601 \n"
     ]
    }
   ],
   "source": [
    "from keras.preprocessing.text import Tokenizer\n",
    "from keras.preprocessing.sequence import pad_sequences\n",
    "MAX_SEQUENCE_LENGTH = 20\n",
    "EMBEDDING_DIM = 300\n",
    "\n",
    "\n",
    "toke = Tokenizer()\n",
    "toke.fit_on_texts(np.concatenate([questions1,questions2],axis=0))\n",
    "\n",
    "sequences1 = toke.texts_to_sequences(questions1)\n",
    "sequencesReverse1 = [s[::-1] for s in sequences1]\n",
    "sequences2 = toke.texts_to_sequences(questions2)\n",
    "sequencesReverse2 = [s[::-1] for s in sequences2]\n",
    "\n",
    "\n",
    "word_index = toke.word_index\n",
    "X_train_forward1 = pad_sequences(sequences1, maxlen=MAX_SEQUENCE_LENGTH)\n",
    "X_train_reverse1 = pad_sequences(sequencesReverse1, maxlen=MAX_SEQUENCE_LENGTH)\n",
    "X_train_forward2 = pad_sequences(sequences2, maxlen=MAX_SEQUENCE_LENGTH)\n",
    "X_train_reverse2 = pad_sequences(sequencesReverse2, maxlen=MAX_SEQUENCE_LENGTH)\n",
    "\n",
    "y_train = train_df[\"is_duplicate\"].values #np_utils.to_categorical()\n",
    "\n",
    "\n",
    "#load glove vectors\n",
    "#download them from http://nlp.stanford.edu/data/glove.6B.zip\n",
    "embeddings_index = {}\n",
    "GLOVE_DIR = '../data/'\n",
    "import os\n",
    "f = open(os.path.join(GLOVE_DIR, 'glove.6B.%id.txt' %EMBEDDING_DIM))\n",
    "for line in f:\n",
    "    values = line.split()\n",
    "    word = values[0]\n",
    "    coefs = np.asarray(values[1:], dtype='float32')\n",
    "    embeddings_index[word] = coefs\n",
    "f.close()\n",
    "print('Found %s word vectors.' % len(embeddings_index))\n",
    "#take only word vecs that are in training dictionary\n",
    "#embedding_matrix = np.zeros((len(word_index) + 1, EMBEDDING_DIM)) # like that unable to learn unknown wordsembeddings \n",
    "\n",
    "embedding_matrix = np.random.uniform(-0.1,0.1,size=(len(word_index) + 1, EMBEDDING_DIM))\n",
    "found = 0\n",
    "for word, i in word_index.items():\n",
    "    embedding_vector = embeddings_index.get(word)\n",
    "    if embedding_vector is not None:\n",
    "        # words not found in embedding index will be all-zeros.\n",
    "        found +=1\n",
    "        embedding_matrix[i] = embedding_vector\n",
    "        \n",
    "print('Using %i word vectors of total vocabulary size: %i ' %(found,len(word_index)))"
   ]
  },
  {
   "cell_type": "code",
   "execution_count": 28,
   "metadata": {
    "collapsed": false
   },
   "outputs": [
    {
     "name": "stderr",
     "output_type": "stream",
     "text": [
      "/home/ubuntu/anaconda2/envs/py36/lib/python3.6/site-packages/keras/legacy/interfaces.py:86: UserWarning: Update your `Conv1D` call to the Keras 2 API: `Conv1D(activation=\"relu\", filters=64, kernel_size=5, strides=1, padding=\"valid\")`\n",
      "  '` call to the Keras 2 API: ' + signature)\n"
     ]
    },
    {
     "name": "stdout",
     "output_type": "stream",
     "text": [
      "____________________________________________________________________________________________________\n",
      "Layer (type)                     Output Shape          Param #     Connected to                     \n",
      "====================================================================================================\n",
      "input_38 (InputLayer)            (None, 20)            0                                            \n",
      "____________________________________________________________________________________________________\n",
      "input_39 (InputLayer)            (None, 20)            0                                            \n",
      "____________________________________________________________________________________________________\n",
      "embedding_8 (Embedding)          (None, 20, 300)       24480600                                     \n",
      "____________________________________________________________________________________________________\n",
      "conv1d_9 (Conv1D)                (None, 16, 64)        96064                                        \n",
      "____________________________________________________________________________________________________\n",
      "dropout_24 (Dropout)             (None, 16, 64)        0                                            \n",
      "____________________________________________________________________________________________________\n",
      "dropout_27 (Dropout)             (None, 16, 64)        0                                            \n",
      "____________________________________________________________________________________________________\n",
      "conv1d_10 (Conv1D)               (None, 12, 64)        20544                                        \n",
      "____________________________________________________________________________________________________\n",
      "global_max_pooling1d_4 (GlobalMa (None, 64)            0                                            \n",
      "____________________________________________________________________________________________________\n",
      "input_34 (InputLayer)            (None, 20)            0                                            \n",
      "____________________________________________________________________________________________________\n",
      "input_35 (InputLayer)            (None, 20)            0                                            \n",
      "____________________________________________________________________________________________________\n",
      "input_36 (InputLayer)            (None, 20)            0                                            \n",
      "____________________________________________________________________________________________________\n",
      "input_37 (InputLayer)            (None, 20)            0                                            \n",
      "____________________________________________________________________________________________________\n",
      "dropout_25 (Dropout)             (None, 64)            0                                            \n",
      "____________________________________________________________________________________________________\n",
      "dropout_28 (Dropout)             (None, 64)            0                                            \n",
      "____________________________________________________________________________________________________\n",
      "dense_16 (Dense)                 (None, 300)           19500                                        \n",
      "____________________________________________________________________________________________________\n",
      "dense_17 (Dense)                 (None, 300)           19500                                        \n",
      "____________________________________________________________________________________________________\n",
      "lstm_15 (LSTM)                   (None, 400)           1121600                                      \n",
      "____________________________________________________________________________________________________\n",
      "lstm_16 (LSTM)                   (None, 400)           1121600                                      \n",
      "____________________________________________________________________________________________________\n",
      "dropout_26 (Dropout)             (None, 300)           0                                            \n",
      "____________________________________________________________________________________________________\n",
      "dropout_29 (Dropout)             (None, 300)           0                                            \n",
      "____________________________________________________________________________________________________\n",
      "concatenate_18 (Concatenate)     (None, 800)           0                                            \n",
      "____________________________________________________________________________________________________\n",
      "concatenate_19 (Concatenate)     (None, 800)           0                                            \n",
      "____________________________________________________________________________________________________\n",
      "batch_normalization_16 (BatchNor (None, 300)           1200                                         \n",
      "____________________________________________________________________________________________________\n",
      "batch_normalization_17 (BatchNor (None, 300)           1200                                         \n",
      "____________________________________________________________________________________________________\n",
      "concatenate_20 (Concatenate)     (None, 2200)          0                                            \n",
      "____________________________________________________________________________________________________\n",
      "dropout_30 (Dropout)             (None, 2200)          0                                            \n",
      "____________________________________________________________________________________________________\n",
      "batch_normalization_18 (BatchNor (None, 2200)          8800                                         \n",
      "____________________________________________________________________________________________________\n",
      "dense_18 (Dense)                 (None, 500)           1100500                                      \n",
      "____________________________________________________________________________________________________\n",
      "p_re_lu_10 (PReLU)               (None, 500)           500                                          \n",
      "____________________________________________________________________________________________________\n",
      "dropout_31 (Dropout)             (None, 500)           0                                            \n",
      "____________________________________________________________________________________________________\n",
      "batch_normalization_19 (BatchNor (None, 500)           2000                                         \n",
      "____________________________________________________________________________________________________\n",
      "dense_19 (Dense)                 (None, 500)           250500                                       \n",
      "____________________________________________________________________________________________________\n",
      "p_re_lu_11 (PReLU)               (None, 500)           500                                          \n",
      "____________________________________________________________________________________________________\n",
      "dropout_32 (Dropout)             (None, 500)           0                                            \n",
      "____________________________________________________________________________________________________\n",
      "batch_normalization_20 (BatchNor (None, 500)           2000                                         \n",
      "____________________________________________________________________________________________________\n",
      "dense_20 (Dense)                 (None, 300)           150300                                       \n",
      "____________________________________________________________________________________________________\n",
      "p_re_lu_12 (PReLU)               (None, 300)           300                                          \n",
      "____________________________________________________________________________________________________\n",
      "dropout_33 (Dropout)             (None, 300)           0                                            \n",
      "____________________________________________________________________________________________________\n",
      "batch_normalization_21 (BatchNor (None, 300)           1200                                         \n",
      "____________________________________________________________________________________________________\n",
      "dense_21 (Dense)                 (None, 1)             301                                          \n",
      "====================================================================================================\n",
      "Total params: 28,398,709.0\n",
      "Trainable params: 3,909,909.0\n",
      "Non-trainable params: 24,488,800.0\n",
      "____________________________________________________________________________________________________\n"
     ]
    }
   ],
   "source": [
    "#LSTM with embedding trainable\n",
    "from keras.models import Model\n",
    "from keras.layers import Input\n",
    "from keras.optimizers import Adam\n",
    "from keras.layers import Dense, Dropout, Activation, Embedding, BatchNormalization, Convolution1D, GlobalMaxPooling1D\n",
    "from keras.layers import LSTM\n",
    "from keras.layers.merge import Concatenate\n",
    "from keras.layers.advanced_activations import PReLU\n",
    "\n",
    "opt = Adam(lr=0.001,beta_1=0.5)\n",
    "inp_shape = X_train_forward1.shape[1:]\n",
    "filter_length = 5\n",
    "nb_filter = 64\n",
    "pool_length = 4\n",
    "#MODEL 1: bidirectional LSTM\n",
    "#shared layers\n",
    "shared_embedding = Embedding(len(word_index) + 1,\n",
    "              EMBEDDING_DIM,\n",
    "              weights=[embedding_matrix],\n",
    "              input_length=MAX_SEQUENCE_LENGTH,\n",
    "              trainable=False,\n",
    "              input_shape=inp_shape)\n",
    "shared_lstm_forward = LSTM(400, return_sequences=False, dropout=0.35, recurrent_dropout=0.35)\n",
    "shared_lstm_backward = LSTM(400, return_sequences=False, dropout=0.35, recurrent_dropout=0.35)\n",
    "\n",
    "#QUESTION1\n",
    "inpONE_forward = Input(shape=inp_shape)\n",
    "xf = shared_embedding(inpONE_forward)\n",
    "xf = shared_lstm_forward(xf)\n",
    "\n",
    "inpONE_reverse = Input(shape=inp_shape)\n",
    "xr = shared_embedding(inpONE_reverse)\n",
    "xr = shared_lstm_backward(xr)\n",
    "x1 = Concatenate(axis=1)([xf,xr])\n",
    "\n",
    "\n",
    "#QUESTION2\n",
    "inpTWO_forward = Input(shape=inp_shape)\n",
    "xf = shared_embedding(inpTWO_forward)\n",
    "xf = shared_lstm_forward(xf)\n",
    "\n",
    "inpTWO_reverse = Input(shape=inp_shape)\n",
    "xr = shared_embedding(inpTWO_reverse)\n",
    "xr = shared_lstm_backward(xr)\n",
    "x2 = Concatenate(axis=1)([xf,xr])\n",
    "\n",
    "#__________________________________\n",
    "#MODEL 2: CNN\n",
    "#shared: \n",
    "shared_conf1 = Convolution1D(nb_filter=nb_filter,\n",
    "                         filter_length=filter_length,\n",
    "                         border_mode='valid',\n",
    "                         activation='relu',\n",
    "                         subsample_length=1)\n",
    "shared_conf2 = Convolution1D(nb_filter=nb_filter,\n",
    "                         filter_length=filter_length,\n",
    "                         border_mode='valid',\n",
    "                         activation='relu',\n",
    "                         subsample_length=1)\n",
    "shared_pooling = GlobalMaxPooling1D()\n",
    "#Q1\n",
    "inp_cnn_1 = Input(shape=inp_shape)\n",
    "cnn_1 = shared_embedding(inp_cnn_1)\n",
    "cnn_1 = shared_conf1(cnn_1)\n",
    "cnn_1 = Dropout(0.2)(cnn_1)\n",
    "\n",
    "cnn_1 = shared_conf2(cnn_1)\n",
    "cnn_1 = shared_pooling(cnn_1)\n",
    "cnn_1 = Dropout(0.2)(cnn_1)\n",
    "\n",
    "cnn_1 = Dense(300)(cnn_1)\n",
    "cnn_1 = Dropout(0.2)(cnn_1)\n",
    "cnn_1 = BatchNormalization()(cnn_1)\n",
    "#Q2\n",
    "inp_cnn_2 = Input(shape=inp_shape)\n",
    "cnn_2 = shared_embedding(inp_cnn_2)\n",
    "cnn_2 = shared_conf1(cnn_2)\n",
    "cnn_2 = Dropout(0.2)(cnn_2)\n",
    "\n",
    "cnn_2 = shared_conf2(cnn_2)\n",
    "cnn_2 = shared_pooling(cnn_2)\n",
    "cnn_2 = Dropout(0.2)(cnn_2)\n",
    "\n",
    "cnn_2 = Dense(300)(cnn_2)\n",
    "cnn_2 = Dropout(0.2)(cnn_2)\n",
    "cnn_2 = BatchNormalization()(cnn_2)\n",
    "\n",
    "#_________________________________\n",
    "# COMBINE\n",
    "x = Concatenate(axis=1)([x1,x2,cnn_1,cnn_2])\n",
    "x = Dropout(0.35)(x)\n",
    "\n",
    "x = BatchNormalization()(x)\n",
    "x = Dense(500)(x)\n",
    "x = PReLU()(x)\n",
    "x = Dropout(0.35)(x)\n",
    "\n",
    "x = BatchNormalization()(x)\n",
    "x = Dense(500)(x)\n",
    "x = PReLU()(x)\n",
    "x = Dropout(0.35)(x)\n",
    "\n",
    "x = BatchNormalization()(x)\n",
    "x = Dense(300)(x)\n",
    "x = PReLU()(x)\n",
    "x = Dropout(0.35)(x)\n",
    "\n",
    "x = BatchNormalization()(x)\n",
    "pred = Dense(1,activation='sigmoid')(x)\n",
    "\n",
    "model = Model([inpONE_forward,inpONE_reverse,inpTWO_forward,inpTWO_reverse,inp_cnn_1,inp_cnn_2],pred)\n",
    "model.compile(loss='binary_crossentropy', optimizer=opt, metrics=['binary_accuracy'])\n",
    "model.summary()"
   ]
  },
  {
   "cell_type": "code",
   "execution_count": null,
   "metadata": {
    "collapsed": false
   },
   "outputs": [],
   "source": [
    "from keras.utils import plot_model\n",
    "plot_model(model, to_file='model.png')"
   ]
  },
  {
   "cell_type": "code",
   "execution_count": 31,
   "metadata": {
    "collapsed": false
   },
   "outputs": [
    {
     "name": "stdout",
     "output_type": "stream",
     "text": [
      "Train on 363861 samples, validate on 40429 samples\n",
      "Epoch 1/5\n",
      "363520/363861 [============================>.] - ETA: 0s - loss: 0.3115 - binary_accuracy: 0.8597Epoch 00000: val_loss improved from inf to 0.37818, saving model to tmp/weights_6.hdf5\n",
      "363861/363861 [==============================] - 302s - loss: 0.3115 - binary_accuracy: 0.8596 - val_loss: 0.3782 - val_binary_accuracy: 0.8212\n",
      "Epoch 2/5\n",
      "363520/363861 [============================>.] - ETA: 0s - loss: 0.3021 - binary_accuracy: 0.8647Epoch 00001: val_loss improved from 0.37818 to 0.37579, saving model to tmp/weights_6.hdf5\n",
      "363861/363861 [==============================] - 303s - loss: 0.3021 - binary_accuracy: 0.8647 - val_loss: 0.3758 - val_binary_accuracy: 0.8250\n",
      "Epoch 3/5\n",
      "363520/363861 [============================>.] - ETA: 0s - loss: 0.2925 - binary_accuracy: 0.8697Epoch 00002: val_loss did not improve\n",
      "363861/363861 [==============================] - 302s - loss: 0.2925 - binary_accuracy: 0.8697 - val_loss: 0.3825 - val_binary_accuracy: 0.8243\n",
      "Epoch 4/5\n",
      "363520/363861 [============================>.] - ETA: 0s - loss: 0.2849 - binary_accuracy: 0.8730Epoch 00003: val_loss did not improve\n",
      "363861/363861 [==============================] - 302s - loss: 0.2849 - binary_accuracy: 0.8730 - val_loss: 0.3858 - val_binary_accuracy: 0.8220\n",
      "Epoch 5/5\n",
      "363520/363861 [============================>.] - ETA: 0s - loss: 0.2776 - binary_accuracy: 0.8769Epoch 00004: val_loss did not improve\n",
      "363861/363861 [==============================] - 301s - loss: 0.2776 - binary_accuracy: 0.8768 - val_loss: 0.3773 - val_binary_accuracy: 0.8297\n"
     ]
    }
   ],
   "source": [
    "from keras.callbacks import ModelCheckpoint\n",
    "checkpointer = ModelCheckpoint(filepath=\"tmp/weights_6.hdf5\", verbose=1, save_best_only=True)\n",
    "\n",
    "losses = model.fit([X_train_forward1,X_train_reverse1,X_train_forward2,X_train_reverse2,X_train_forward1,X_train_forward2],\n",
    "                  y_train,\n",
    "                  epochs=5,\n",
    "                  batch_size=512,\n",
    "                  verbose=1,\n",
    "                  validation_split=0.1,\n",
    "                  callbacks=[checkpointer])\n",
    "\n",
    "\n"
   ]
  },
  {
   "cell_type": "code",
   "execution_count": 20,
   "metadata": {
    "collapsed": false
   },
   "outputs": [
    {
     "name": "stderr",
     "output_type": "stream",
     "text": [
      "/home/ubuntu/anaconda2/envs/py36/lib/python3.6/site-packages/matplotlib/legend.py:326: UserWarning: Unrecognized location \"lower_left\". Falling back on \"best\"; valid locations are\n",
      "\tbest\n",
      "\tupper right\n",
      "\tupper left\n",
      "\tlower left\n",
      "\tlower right\n",
      "\tright\n",
      "\tcenter left\n",
      "\tcenter right\n",
      "\tlower center\n",
      "\tupper center\n",
      "\tcenter\n",
      "\n",
      "  six.iterkeys(self.codes))))\n"
     ]
    },
    {
     "data": {
      "image/png": "[encoded data removed]",
      "text/plain": [
       "<matplotlib.figure.Figure at 0x7f2651ca81d0>"
      ]
     },
     "metadata": {},
     "output_type": "display_data"
    }
   ],
   "source": [
    "keys = list(losses.history.keys())\n",
    "for key in keys:\n",
    "    plt.plot(losses.history.get(key),label=key)\n",
    "    \n",
    "plt.legend(loc=\"lower_left\")\n",
    "plt.show()"
   ]
  },
  {
   "cell_type": "code",
   "execution_count": null,
   "metadata": {
    "collapsed": false
   },
   "outputs": [
    {
     "name": "stdout",
     "output_type": "stream",
     "text": [
      "1615872/2345796 [===================>..........] - ETA: 214s"
     ]
    }
   ],
   "source": [
    "from keras.models import load_model\n",
    "#load_model(\"tmp/weights_6.hdf5\")\n",
    "test_df = test_df.fillna(\" \")\n",
    "test_questions1 = test_df[\"question1\"].values\n",
    "test_questions2 = test_df[\"question2\"].values\n",
    "\n",
    "seqsTest1 = toke.texts_to_sequences(test_questions1)\n",
    "seqsTestReverse1 = [s[::-1] for s in seqsTest1]\n",
    "X_test_forward1 = pad_sequences(seqsTest1, maxlen=MAX_SEQUENCE_LENGTH)\n",
    "X_test_reverse1 = pad_sequences(seqsTestReverse1, maxlen=MAX_SEQUENCE_LENGTH)\n",
    "seqsTest2 = toke.texts_to_sequences(test_questions2)\n",
    "seqsTestReverse2 = [s[::-1] for s in seqsTest2]\n",
    "X_test_forward2 = pad_sequences(seqsTest2, maxlen=MAX_SEQUENCE_LENGTH)\n",
    "X_test_reverse2 = pad_sequences(seqsTestReverse2, maxlen=MAX_SEQUENCE_LENGTH)\n",
    "\n",
    "preds = model.predict([X_test_forward1,X_test_reverse1,X_test_forward2,X_test_reverse2,X_test_forward1,X_test_forward2],batch_size=512,verbose=1)\n",
    "\n",
    "\n",
    "\n",
    "test_df[\"is_duplicate\"] = pd.Series(preds[:,0],index=test_df.index)\n",
    "header = [\"test_id\", \"is_duplicate\"]\n",
    "test_df.to_csv('submissions/predictions_6.csv', columns = header,index=False)"
   ]
  },
  {
   "cell_type": "code",
   "execution_count": null,
   "metadata": {
    "collapsed": false
   },
   "outputs": [],
   "source": [
    "plt.hist(preds,50)"
   ]
  },
  {
   "cell_type": "code",
   "execution_count": null,
   "metadata": {
    "collapsed": false
   },
   "outputs": [],
   "source": [
    "print(np.sum(preds<0.5)/preds.shape[0])\n",
    "print(np.sum(y_train == 0)/y_train.shape[0])\n",
    "idx = np.nonzero(preds>0.999)[0]\n",
    "test_df.iloc[idx[:5],1:3].values"
   ]
  }
 ],
 "metadata": {
  "anaconda-cloud": {},
  "kernelspec": {
   "display_name": "Python [conda env:py36]",
   "language": "python",
   "name": "conda-env-py36-py"
  },
  "language_info": {
   "codemirror_mode": {
    "name": "ipython",
    "version": 3
   },
   "file_extension": ".py",
   "mimetype": "text/x-python",
   "name": "python",
   "nbconvert_exporter": "python",
   "pygments_lexer": "ipython3",
   "version": "3.6.0"
  }
 },
 "nbformat": 4,
 "nbformat_minor": 1
}
